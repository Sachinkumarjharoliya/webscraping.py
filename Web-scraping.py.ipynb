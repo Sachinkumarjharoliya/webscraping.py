{
 "cells": [
  {
   "cell_type": "code",
   "execution_count": 96,
   "id": "2df2517b",
   "metadata": {},
   "outputs": [],
   "source": [
    "import pandas as pd\n",
    "import requests\n",
    "from bs4 import BeautifulSoup\n",
    "import numpy as np"
   ]
  },
  {
   "cell_type": "code",
   "execution_count": 97,
   "id": "33c6be74",
   "metadata": {},
   "outputs": [],
   "source": [
    "headers = {'User-Agent': 'Mozilla/5.0 (Windows NT 6.3; Win64; x64) AppleWebKit/537.36 (KHTML, like Gecko) Chrome/80.0.3987.162 Safari/537.36'}\n",
    "webpage=requests.get('http://www.ambitionbox.com/list-of-campanies?page=1', headers=headers).text    "
   ]
  },
  {
   "cell_type": "code",
   "execution_count": 98,
   "id": "796fa6a5",
   "metadata": {},
   "outputs": [],
   "source": [
    "soup=BeautifulSoup(webpage,'lxml')"
   ]
  },
  {
   "cell_type": "code",
   "execution_count": 99,
   "id": "3b6ab2a1",
   "metadata": {},
   "outputs": [],
   "source": [
    "company=soup.find_all('div', class_='company-context-wrapper')"
   ]
  },
  {
   "cell_type": "code",
   "execution_count": 103,
   "id": "0947b7e5",
   "metadata": {},
   "outputs": [],
   "source": [
    "name=[]\n",
    "rating=[]\n",
    "reviews=[]\n",
    "ct=[] # company type\n",
    "hq=[] # head queter\n",
    "old=[] # age \n",
    "employees= []\n",
    "\n",
    "\n",
    "for i  in company:\n",
    "    name.append(i.find(h2).text.strip())\n",
    "    rating.append(i.find_all('p',class_='rating')[0].text.strip())\n",
    "    reviews.append(i.find('a',class_='review-count').text.strip())\n",
    "    hd.apeend(i.find_all('p', class_='infoEntity')[1].text.strip())\n",
    "    old.apeend(i.find_all('p', class_='infoEntity')[2].text.strip())\n",
    "    try:\n",
    "        employees.apeend(i.find_all('p', class_='infoEntity')[0].text.strip())\n",
    "    except:\n",
    "               employees.aappend(np.nan)\n",
    "\n",
    "    d={'name': name, 'rating':rating, 'review' : reviews, 'type' : ctype, 'hq' : hq, 'old': old, 'employees': employees}\n",
    "    df=pd.DataFrame(d)\n",
    "    df\n",
    "         "
   ]
  },
  {
   "cell_type": "code",
   "execution_count": null,
   "id": "6bd998e1",
   "metadata": {},
   "outputs": [],
   "source": [
    "df.shape"
   ]
  },
  {
   "cell_type": "code",
   "execution_count": 106,
   "id": "56a2f6b5",
   "metadata": {},
   "outputs": [],
   "source": [
    "final= pd.DataFrame()\n",
    "\n",
    "for j  in range (1,11):\n",
    "    \n",
    "    url='http://www.ambitionbox.com/list-of-campanies?page={}'.format(j)\n",
    "\n",
    "    headers = {'User-Agent': 'Mozilla/5.0 (Windows NT 6.3; Win64; x64) AppleWebKit/537.36 (KHTML, like Gecko) Chrome/80.0.3987.162 Safari/537.36'}\n",
    "    webpage=requests.get(url,headers=headers).text    \n",
    "\n",
    "    soup=BeautifulSoup(webpage,'lxml')\n",
    "    company=soup.find_all('div', class_='company-context-wrapper')\n",
    "    rating=[]\n",
    "    reviews=[]\n",
    "    ct=[] # company type\n",
    "    hq=[] # head queter\n",
    "    old=[] # age \n",
    "    employees= []\n",
    "\n",
    "\n",
    "        for i  in company:\n",
    "            name.append(i.find(h2).text.strip())\n",
    "            rating.append(i.find_all('p',class_='rating')[0].text.strip())\n",
    "            reviews.append(i.find('a',class_='review-count').text.strip())\n",
    "            hd.apeend(i.find_all('p', class_='infoEntity')[1].text.strip())\n",
    "            old.apeend(i.find_all('p', class_='infoEntity')[2].text.strip())\n",
    "            try:\n",
    "                employees.apeend(i.find_all('p', class_='infoEntity')[0].text.strip())\n",
    "            except:\n",
    "                       employees.aappend(np.nan)\n",
    "\n",
    "                d={'name': name, 'rating':rating, 'review' : reviews, 'type' : ctype, 'hq' : hq, 'old': old, 'employees': employees}\n",
    "                df=pd.DataFrame(d)\n",
    "                final= final.append(df)\n"
   ]
  },
  {
   "cell_type": "code",
   "execution_count": 107,
   "id": "54ff1258",
   "metadata": {},
   "outputs": [
    {
     "data": {
      "text/plain": [
       "(0, 0)"
      ]
     },
     "execution_count": 107,
     "metadata": {},
     "output_type": "execute_result"
    }
   ],
   "source": [
    "final.shape"
   ]
  },
  {
   "cell_type": "code",
   "execution_count": null,
   "id": "81eaa140",
   "metadata": {},
   "outputs": [],
   "source": []
  },
  {
   "cell_type": "code",
   "execution_count": null,
   "id": "71513491",
   "metadata": {},
   "outputs": [],
   "source": []
  },
  {
   "cell_type": "code",
   "execution_count": null,
   "id": "8fdc7a5a",
   "metadata": {},
   "outputs": [],
   "source": []
  },
  {
   "cell_type": "code",
   "execution_count": null,
   "id": "fad2831d",
   "metadata": {},
   "outputs": [],
   "source": []
  },
  {
   "cell_type": "code",
   "execution_count": null,
   "id": "19f078c8",
   "metadata": {},
   "outputs": [],
   "source": []
  },
  {
   "cell_type": "code",
   "execution_count": null,
   "id": "091ab0a2",
   "metadata": {},
   "outputs": [],
   "source": []
  },
  {
   "cell_type": "code",
   "execution_count": null,
   "id": "3ccd25f2",
   "metadata": {},
   "outputs": [],
   "source": []
  },
  {
   "cell_type": "code",
   "execution_count": null,
   "id": "b986a632",
   "metadata": {},
   "outputs": [],
   "source": []
  },
  {
   "cell_type": "code",
   "execution_count": null,
   "id": "41571053",
   "metadata": {},
   "outputs": [],
   "source": []
  },
  {
   "cell_type": "code",
   "execution_count": null,
   "id": "ccf2cff5",
   "metadata": {},
   "outputs": [],
   "source": []
  },
  {
   "cell_type": "code",
   "execution_count": null,
   "id": "9e4121bf",
   "metadata": {},
   "outputs": [],
   "source": []
  },
  {
   "cell_type": "code",
   "execution_count": null,
   "id": "17da59ec",
   "metadata": {},
   "outputs": [],
   "source": []
  },
  {
   "cell_type": "code",
   "execution_count": null,
   "id": "a34a6af3",
   "metadata": {},
   "outputs": [],
   "source": []
  },
  {
   "cell_type": "code",
   "execution_count": null,
   "id": "97143bb5",
   "metadata": {},
   "outputs": [],
   "source": []
  },
  {
   "cell_type": "code",
   "execution_count": null,
   "id": "c1ff2517",
   "metadata": {},
   "outputs": [],
   "source": []
  },
  {
   "cell_type": "code",
   "execution_count": null,
   "id": "53c1dd0b",
   "metadata": {},
   "outputs": [],
   "source": []
  },
  {
   "cell_type": "code",
   "execution_count": null,
   "id": "807c774c",
   "metadata": {},
   "outputs": [],
   "source": []
  },
  {
   "cell_type": "code",
   "execution_count": null,
   "id": "ca674e65",
   "metadata": {},
   "outputs": [],
   "source": []
  },
  {
   "cell_type": "code",
   "execution_count": null,
   "id": "9f42e438",
   "metadata": {},
   "outputs": [],
   "source": []
  },
  {
   "cell_type": "code",
   "execution_count": null,
   "id": "f3387ff2",
   "metadata": {},
   "outputs": [],
   "source": []
  },
  {
   "cell_type": "code",
   "execution_count": 23,
   "id": "2f37c360",
   "metadata": {},
   "outputs": [
    {
     "data": {
      "text/plain": [
       "''"
      ]
     },
     "execution_count": 23,
     "metadata": {},
     "output_type": "execute_result"
    }
   ],
   "source": []
  },
  {
   "cell_type": "code",
   "execution_count": null,
   "id": "a79ed9ce",
   "metadata": {},
   "outputs": [],
   "source": []
  },
  {
   "cell_type": "code",
   "execution_count": null,
   "id": "63d19c6c",
   "metadata": {},
   "outputs": [],
   "source": []
  }
 ],
 "metadata": {
  "kernelspec": {
   "display_name": "Python 3 (ipykernel)",
   "language": "python",
   "name": "python3"
  },
  "language_info": {
   "codemirror_mode": {
    "name": "ipython",
    "version": 3
   },
   "file_extension": ".py",
   "mimetype": "text/x-python",
   "name": "python",
   "nbconvert_exporter": "python",
   "pygments_lexer": "ipython3",
   "version": "3.9.13"
  }
 },
 "nbformat": 4,
 "nbformat_minor": 5
}
